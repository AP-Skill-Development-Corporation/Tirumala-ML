{
 "cells": [
  {
   "cell_type": "markdown",
   "metadata": {},
   "source": [
    "### Unsupervised Learning:\n",
    "\n",
    "* There won't be any supervison on the model.\n",
    "* we provide input only .\n",
    "* There are two methods in unsupervised learning.\n",
    "    * Clustering --- grouping \n",
    "        * k-means clustering\n",
    "    * Associative -- combine more clusters.\n",
    "    "
   ]
  },
  {
   "cell_type": "markdown",
   "metadata": {},
   "source": [
    "### K- means clustering:\n",
    "\n",
    "* This is one of the clustering algorithm ,which works distance between two points.\n",
    "* k is the number of clusters to be formed.\n",
    "* K values should be higher for better results.\n",
    "\n",
    "#### Steps involved in K-means clustering:\n",
    "\n",
    "* select the k value.\n",
    "    * elbow method\n",
    "        * Will find the distance of each point and draw the graph.\n",
    "        * From the graph we will take the point where the slope was fallen.That is taken as k value.\n",
    "    * sillhoutee method\n",
    "        * This use elbow method and also finds the coefficient.\n",
    "        * Forming the centroids\n",
    "* Select the groups and finding the average."
   ]
  },
  {
   "cell_type": "markdown",
   "metadata": {},
   "source": [
    "## k-means Clustering:\n",
    "\n",
    "<img src = \"https://editor.analyticsvidhya.com/uploads/56854k%20means%20clustering.png\">\n",
    "\n",
    "\n",
    "### How does K-means clustering algorithm work?\n",
    "\n",
    "<img src = \"https://editor.analyticsvidhya.com/uploads/34513k%20means.png\">\n",
    "\n",
    "\n",
    "\n",
    "\n",
    "\n",
    "### Euclidean Distance:\n",
    "\n",
    "<img src = \"https://editor.analyticsvidhya.com/uploads/96840RtnTY.jpg\">\n",
    "\n",
    "\n",
    "\n",
    "### Elbow method:\n",
    "<img src = \"https://editor.analyticsvidhya.com/uploads/39510Beyond_the_k-Means_5.png\">\n",
    "\n",
    "### Elbow curve:\n",
    "\n",
    "<img src = \"https://editor.analyticsvidhya.com/uploads/40205elbow.png\">\n",
    "\n",
    "\n",
    "\n",
    "### Silhoutee method:\n",
    "\n",
    "s(i) = b(i) - a(i)/larger of b(i) and a(i)\n"
   ]
  },
  {
   "cell_type": "code",
   "execution_count": null,
   "metadata": {},
   "outputs": [],
   "source": []
  }
 ],
 "metadata": {
  "kernelspec": {
   "display_name": "Python 3",
   "language": "python",
   "name": "python3"
  },
  "language_info": {
   "codemirror_mode": {
    "name": "ipython",
    "version": 3
   },
   "file_extension": ".py",
   "mimetype": "text/x-python",
   "name": "python",
   "nbconvert_exporter": "python",
   "pygments_lexer": "ipython3",
   "version": "3.7.3"
  }
 },
 "nbformat": 4,
 "nbformat_minor": 2
}
