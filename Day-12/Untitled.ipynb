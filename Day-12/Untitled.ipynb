{
 "cells": [
  {
   "cell_type": "markdown",
   "metadata": {},
   "source": [
    "### Dimensionality Reduction:\n",
    "\n",
    "* Reducing the number of features in our data.\n",
    "\n",
    "##### Why is dimensionality Reduction used?\n",
    "* To save the space.\n",
    "* less dimensions makes the computation easy.\n",
    "* Some algorithms won't give better efficiency when we feed huge data.\n",
    "* for removing the multicolinearity features.\n",
    "\n",
    "### Techniques in Dimensionality Reduction:\n",
    "* there are two ways of applying dimensionality reduction.\n",
    "    * Feature Selection\n",
    "    * variable selection"
   ]
  },
  {
   "cell_type": "code",
   "execution_count": null,
   "metadata": {},
   "outputs": [],
   "source": []
  },
  {
   "cell_type": "code",
   "execution_count": null,
   "metadata": {},
   "outputs": [],
   "source": []
  },
  {
   "cell_type": "markdown",
   "metadata": {},
   "source": [
    "\n",
    "#### Scatter plot for 100 values:\n",
    "\n",
    "<img src = \"https://cdn.analyticsvidhya.com/wp-content/uploads/2018/08/Screenshot-from-2018-08-09-19-14-31.png\">\n",
    "\n",
    "##### Plot for the freatures kgs and pounds:\n",
    "\n",
    "<img src = \"https://cdn.analyticsvidhya.com/wp-content/uploads/2018/08/Screenshot-from-2018-07-26-13-06-35.png\">\n",
    "\n",
    "##### combining both features into one:\n",
    "\n",
    "<img src = \"https://cdn.analyticsvidhya.com/wp-content/uploads/2018/08/Screenshot-from-2018-07-26-13-51-52.png\">"
   ]
  },
  {
   "cell_type": "markdown",
   "metadata": {},
   "source": [
    "### Different methods for applying Dimensionality Reduction:\n",
    "\n",
    "#### Missing Value ratio:\n",
    "\n"
   ]
  },
  {
   "cell_type": "code",
   "execution_count": null,
   "metadata": {},
   "outputs": [],
   "source": []
  }
 ],
 "metadata": {
  "kernelspec": {
   "display_name": "Python 3",
   "language": "python",
   "name": "python3"
  },
  "language_info": {
   "codemirror_mode": {
    "name": "ipython",
    "version": 3
   },
   "file_extension": ".py",
   "mimetype": "text/x-python",
   "name": "python",
   "nbconvert_exporter": "python",
   "pygments_lexer": "ipython3",
   "version": "3.7.3"
  }
 },
 "nbformat": 4,
 "nbformat_minor": 2
}
