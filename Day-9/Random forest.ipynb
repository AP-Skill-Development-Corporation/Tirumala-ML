{
 "cells": [
  {
   "cell_type": "markdown",
   "metadata": {},
   "source": [
    "outlook|temp|humidity|windy|Play\n",
    "-------|----|--------|-----|----\n",
    "sunny  |hot |high    |False|no\n",
    "rainy  |mild |low   |True |yes\n",
    "overcast|hot|high    |False|yes\n",
    "rainy  |cool|low     |True |no\n",
    "overcast|hot|normal|False|yes\n"
   ]
  },
  {
   "cell_type": "markdown",
   "metadata": {},
   "source": [
    "### Random Forest :\n",
    "\n",
    "* Random forest is an ensemble classifier used to classify the output.\n",
    "* Group of decision trees can be called as Random forest.\n",
    "* We will consider the output of each decision tree and define the highest repeated times output as the predicted output.\n",
    "* We mainly use 2 terms in random forest .\n",
    "    * entropy  --- the measure of the impurity in the model.\n",
    "        * It should be in the range of 0 to 1.\n",
    "        *  <img src = \"https://miro.medium.com/max/391/1*nNY_7_aWRwp8E2DyGduEPg.png\">\n",
    "    * Information Gain -- the measure of reducing entropy due to split \n",
    "        * It should be in the range of 0 to 1\n",
    "        * <img src = \"https://miro.medium.com/max/700/0*08CaHVjPCgs_fZyp\" width = \"200\" height = \"200\">\n",
    "    "
   ]
  },
  {
   "cell_type": "code",
   "execution_count": 5,
   "metadata": {},
   "outputs": [
    {
     "data": {
      "text/plain": [
       "0.7127776865026758"
      ]
     },
     "execution_count": 5,
     "metadata": {},
     "output_type": "execute_result"
    }
   ],
   "source": [
    "#-[p(yes)*log(p(yes)) + p(no)*log(p(no))]\n",
    "import numpy as np\n",
    "\n",
    "-((3/6) * np.log(3/6) + (2/6) * np.log(2/6))"
   ]
  },
  {
   "cell_type": "code",
   "execution_count": null,
   "metadata": {},
   "outputs": [],
   "source": []
  }
 ],
 "metadata": {
  "kernelspec": {
   "display_name": "Python 3",
   "language": "python",
   "name": "python3"
  },
  "language_info": {
   "codemirror_mode": {
    "name": "ipython",
    "version": 3
   },
   "file_extension": ".py",
   "mimetype": "text/x-python",
   "name": "python",
   "nbconvert_exporter": "python",
   "pygments_lexer": "ipython3",
   "version": "3.7.3"
  }
 },
 "nbformat": 4,
 "nbformat_minor": 2
}
