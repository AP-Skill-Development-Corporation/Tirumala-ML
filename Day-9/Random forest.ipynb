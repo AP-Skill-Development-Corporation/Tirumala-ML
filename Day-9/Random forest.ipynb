{
 "cells": [
  {
   "cell_type": "markdown",
   "metadata": {},
   "source": [
    "outlook|temp|humidity|windy|Play\n",
    "-------|----|--------|-----|----\n",
    "sunny  |hot |high    |False|no\n",
    "rainy  |mild |low   |True |yes\n",
    "overcast|hot|high    |False|yes\n",
    "rainy  |cool|low     |True |no\n",
    "overcast|hot|normal|False|yes\n"
   ]
  },
  {
   "cell_type": "markdown",
   "metadata": {},
   "source": [
    "### Random Forest :\n",
    "\n",
    "* Random forest is an ensemble classifier used to classify the output.\n",
    "* Group of decision trees can be called as Random forest.\n",
    "* We will consider the output of each decision tree and define the highest repeated times output as the predicted output.\n",
    "* We mainly use 2 terms in random forest .\n",
    "    * entropy  --- the measure of the impurity in the model.\n",
    "        * It should be in the range of 0 to 1.\n",
    "        *  <img src = \"https://miro.medium.com/max/391/1*nNY_7_aWRwp8E2DyGduEPg.png\">\n",
    "    * Information Gain -- the measure of reducing entropy due to split \n",
    "        * It should be in the range of 0 to 1\n",
    "        * <img src = \"https://miro.medium.com/max/700/0*08CaHVjPCgs_fZyp\" width = \"200\" height = \"200\">\n",
    "    "
   ]
  },
  {
   "cell_type": "code",
   "execution_count": 5,
   "metadata": {},
   "outputs": [
    {
     "data": {
      "text/plain": [
       "0.7127776865026758"
      ]
     },
     "execution_count": 5,
     "metadata": {},
     "output_type": "execute_result"
    }
   ],
   "source": [
    "#-[p(yes)*log(p(yes)) + p(no)*log(p(no))]\n",
    "import numpy as np\n",
    "\n",
    "-((3/6) * np.log(3/6) + (2/6) * np.log(2/6))"
   ]
  },
  {
   "cell_type": "code",
   "execution_count": 7,
   "metadata": {},
   "outputs": [],
   "source": [
    "### importing the libraries:\n",
    "\n",
    "import numpy as np\n",
    "import pandas as pd\n",
    "import matplotlib.pyplot as plt\n",
    "import seaborn as sns\n"
   ]
  },
  {
   "cell_type": "code",
   "execution_count": 8,
   "metadata": {},
   "outputs": [],
   "source": [
    "data = pd.read_csv(\"https://raw.githubusercontent.com/AP-Skill-Development-Corporation/Tirumala-ML/main/Day-9/diabetes.csv\")"
   ]
  },
  {
   "cell_type": "code",
   "execution_count": 9,
   "metadata": {},
   "outputs": [
    {
     "data": {
      "text/plain": [
       "Index(['Pregnancies', 'Glucose', 'BloodPressure', 'SkinThickness', 'Insulin',\n",
       "       'BMI', 'DiabetesPedigreeFunction', 'Age', 'Outcome'],\n",
       "      dtype='object')"
      ]
     },
     "execution_count": 9,
     "metadata": {},
     "output_type": "execute_result"
    }
   ],
   "source": [
    "data.columns"
   ]
  },
  {
   "cell_type": "code",
   "execution_count": 10,
   "metadata": {},
   "outputs": [
    {
     "data": {
      "text/plain": [
       "(768, 9)"
      ]
     },
     "execution_count": 10,
     "metadata": {},
     "output_type": "execute_result"
    }
   ],
   "source": [
    "data.shape"
   ]
  },
  {
   "cell_type": "code",
   "execution_count": 25,
   "metadata": {},
   "outputs": [
    {
     "data": {
      "text/plain": [
       "Pregnancies                 768\n",
       "Glucose                     768\n",
       "BloodPressure               768\n",
       "SkinThickness               768\n",
       "Insulin                     768\n",
       "BMI                         768\n",
       "DiabetesPedigreeFunction    768\n",
       "Age                         768\n",
       "Outcome                     768\n",
       "dtype: int64"
      ]
     },
     "execution_count": 25,
     "metadata": {},
     "output_type": "execute_result"
    }
   ],
   "source": [
    "data.isna().count()"
   ]
  },
  {
   "cell_type": "code",
   "execution_count": 26,
   "metadata": {},
   "outputs": [],
   "source": [
    "X = data.drop(\"Outcome\",axis = 1)\n",
    "y = data[\"Outcome\"]"
   ]
  },
  {
   "cell_type": "code",
   "execution_count": 27,
   "metadata": {},
   "outputs": [],
   "source": [
    "from sklearn.model_selection import train_test_split\n",
    "X_train,X_test,y_train,y_test = train_test_split(X,y,test_size = 0.2,random_state = 66)\n",
    "\n"
   ]
  },
  {
   "cell_type": "code",
   "execution_count": 29,
   "metadata": {},
   "outputs": [
    {
     "name": "stderr",
     "output_type": "stream",
     "text": [
      "C:\\Users\\Niharikaa\\Anaconda3\\lib\\site-packages\\sklearn\\ensemble\\forest.py:246: FutureWarning: The default value of n_estimators will change from 10 in version 0.20 to 100 in 0.22.\n",
      "  \"10 in version 0.20 to 100 in 0.22.\", FutureWarning)\n"
     ]
    },
    {
     "data": {
      "text/plain": [
       "RandomForestClassifier(bootstrap=True, class_weight=None, criterion='gini',\n",
       "            max_depth=None, max_features='auto', max_leaf_nodes=None,\n",
       "            min_impurity_decrease=0.0, min_impurity_split=None,\n",
       "            min_samples_leaf=1, min_samples_split=2,\n",
       "            min_weight_fraction_leaf=0.0, n_estimators=10, n_jobs=None,\n",
       "            oob_score=False, random_state=None, verbose=0,\n",
       "            warm_start=False)"
      ]
     },
     "execution_count": 29,
     "metadata": {},
     "output_type": "execute_result"
    }
   ],
   "source": [
    "from sklearn.ensemble import RandomForestClassifier\n",
    "rfc = RandomForestClassifier()\n",
    "rfc.fit(X_train,y_train)"
   ]
  },
  {
   "cell_type": "code",
   "execution_count": 30,
   "metadata": {},
   "outputs": [],
   "source": [
    "rfc_predict = rfc.predict(X_test)"
   ]
  },
  {
   "cell_type": "code",
   "execution_count": 31,
   "metadata": {
    "collapsed": true
   },
   "outputs": [
    {
     "name": "stdout",
     "output_type": "stream",
     "text": [
      "===Confusion matric===\n",
      "[[85 23]\n",
      " [25 21]]\n",
      "===Classification report===\n",
      "              precision    recall  f1-score   support\n",
      "\n",
      "           0       0.77      0.79      0.78       108\n",
      "           1       0.48      0.46      0.47        46\n",
      "\n",
      "   micro avg       0.69      0.69      0.69       154\n",
      "   macro avg       0.62      0.62      0.62       154\n",
      "weighted avg       0.68      0.69      0.69       154\n",
      "\n",
      "\n",
      "\n",
      "======All Auccary scores=====\n",
      "[0.74555556 0.80962963 0.80148148 0.78037037 0.7362963  0.8262963\n",
      " 0.82074074 0.84148148 0.77807692 0.82153846]\n",
      "\n",
      "\n",
      "===mean accuracy score =====\n",
      "0.7961467236467236\n"
     ]
    }
   ],
   "source": [
    "from sklearn.model_selection import cross_val_score\n",
    "from sklearn.metrics import classification_report,confusion_matrix\n",
    "\n",
    "rfc_cv_score = cross_val_score(rfc,X,y,cv = 10,scoring = 'roc_auc')\n",
    "\n",
    "print(\"===Confusion matric===\")\n",
    "print(confusion_matrix(y_test,rfc_predict))\n",
    "print(\"===Classification report===\")\n",
    "print(classification_report(y_test,rfc_predict))\n",
    "print('\\n')\n",
    "print(\"======All Auccary scores=====\")\n",
    "print(rfc_cv_score)\n",
    "print(\"\\n\")\n",
    "print(\"===mean accuracy score =====\")\n",
    "print(rfc_cv_score.mean())"
   ]
  },
  {
   "cell_type": "code",
   "execution_count": 33,
   "metadata": {},
   "outputs": [
    {
     "name": "stdout",
     "output_type": "stream",
     "text": [
      "Fitting 3 folds for each of 100 candidates, totalling 300 fits\n"
     ]
    },
    {
     "name": "stderr",
     "output_type": "stream",
     "text": [
      "[Parallel(n_jobs=-1)]: Using backend LokyBackend with 8 concurrent workers.\n",
      "[Parallel(n_jobs=-1)]: Done  25 tasks      | elapsed:   34.9s\n",
      "[Parallel(n_jobs=-1)]: Done 146 tasks      | elapsed:  2.0min\n",
      "[Parallel(n_jobs=-1)]: Done 300 out of 300 | elapsed:  3.8min finished\n"
     ]
    },
    {
     "name": "stdout",
     "output_type": "stream",
     "text": [
      "{'n_estimators': 1800, 'max_features': 'sqrt', 'max_depth': 340}\n"
     ]
    }
   ],
   "source": [
    "import numpy as np\n",
    "from sklearn.model_selection import RandomizedSearchCV\n",
    "### number of trees in random forest\n",
    "\n",
    "n_estimators = [int(x) for x in np.linspace(start = 200,stop = 2000,num = 10)]\n",
    "\n",
    "## number of features at every split\n",
    "\n",
    "max_features = ['auto','sqrt']\n",
    "### Max_depth\n",
    "max_depth = [int(x) for x in np.linspace(100,500,num = 11)]\n",
    "## create random grid:\n",
    "\n",
    "random_grid = {\"n_estimators\":n_estimators,\"max_features\":max_features,\"max_depth\":max_depth}\n",
    "\n",
    "### random search parameters:\n",
    "\n",
    "rfc_random = RandomizedSearchCV(estimator = rfc,param_distributions = random_grid,n_iter = 100,cv = 3,verbose = 2,random_state = 42,n_jobs = -1)\n",
    "\n",
    "rfc_random.fit(X_train,y_train)\n",
    "print(rfc_random.best_params_)"
   ]
  },
  {
   "cell_type": "code",
   "execution_count": 34,
   "metadata": {},
   "outputs": [
    {
     "name": "stdout",
     "output_type": "stream",
     "text": [
      "===Confusion matric===\n",
      "[[93 15]\n",
      " [20 26]]\n",
      "===Classification report===\n",
      "              precision    recall  f1-score   support\n",
      "\n",
      "           0       0.82      0.86      0.84       108\n",
      "           1       0.63      0.57      0.60        46\n",
      "\n",
      "   micro avg       0.77      0.77      0.77       154\n",
      "   macro avg       0.73      0.71      0.72       154\n",
      "weighted avg       0.77      0.77      0.77       154\n",
      "\n",
      "\n",
      "\n",
      "======All Auccary scores=====\n",
      "[0.78481481 0.83111111 0.83074074 0.73703704 0.81703704 0.85851852\n",
      " 0.86814815 0.90888889 0.80692308 0.85846154]\n",
      "\n",
      "\n",
      "===mean accuracy score =====\n",
      "0.8301680911680911\n"
     ]
    }
   ],
   "source": [
    "rfc = RandomForestClassifier(n_estimators = 1800,max_features = 'sqrt',max_depth = 340)\n",
    "rfc.fit(X_train,y_train)\n",
    "rfc_predict = rfc.predict(X_test)\n",
    "rfc_cv_score = cross_val_score(rfc,X,y,cv = 10,scoring = 'roc_auc')\n",
    "\n",
    "print(\"===Confusion matric===\")\n",
    "print(confusion_matrix(y_test,rfc_predict))\n",
    "print(\"===Classification report===\")\n",
    "print(classification_report(y_test,rfc_predict))\n",
    "print('\\n')\n",
    "print(\"======All Auccary scores=====\")\n",
    "print(rfc_cv_score)\n",
    "print(\"\\n\")\n",
    "print(\"===mean accuracy score =====\")\n",
    "print(rfc_cv_score.mean())"
   ]
  },
  {
   "cell_type": "code",
   "execution_count": null,
   "metadata": {},
   "outputs": [],
   "source": []
  },
  {
   "cell_type": "code",
   "execution_count": null,
   "metadata": {},
   "outputs": [],
   "source": []
  }
 ],
 "metadata": {
  "kernelspec": {
   "display_name": "Python 3",
   "language": "python",
   "name": "python3"
  },
  "language_info": {
   "codemirror_mode": {
    "name": "ipython",
    "version": 3
   },
   "file_extension": ".py",
   "mimetype": "text/x-python",
   "name": "python",
   "nbconvert_exporter": "python",
   "pygments_lexer": "ipython3",
   "version": "3.7.3"
  }
 },
 "nbformat": 4,
 "nbformat_minor": 2
}
