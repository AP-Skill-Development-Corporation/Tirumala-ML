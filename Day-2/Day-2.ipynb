{
 "cells": [
  {
   "cell_type": "markdown",
   "metadata": {},
   "source": [
    "### Mchine Learning:\n",
    "    \n",
    "    Making a machine to learn from the previous or past experiences.\n",
    "    \n",
    "#### Classification of Machine Learning Algorithms:\n",
    "* Supervised Learning:\n",
    "    we will provide the sampled data(data with the known answers).\n",
    "    * Regression\n",
    "    * classification\n",
    "* Unsupervised Learning\n",
    "    * We will provide the unsampled data(data without answers).Depending upon the inputs we provide it  categorize the data.\n",
    "* Reinforcement learning\n",
    "    * We won't provide any input,output.The machine has to learn by itself.\n",
    "\n",
    "#### Applications:\n",
    "\n",
    "* Image recognization\n",
    "* Traffic Prediction\n",
    "* Product recommendations\n",
    "* Speech recognization\n",
    "* Fraud detection in transcations\n",
    "\n",
    "#### Life cycle of Machine Learning Model:\n",
    " * Gathering Data\n",
    " * Data prepearation\n",
    " * Data Wrangling (cleaning)\n",
    " * Analyse Data\n",
    " * Train the model\n",
    " * Test the model\n",
    " * Deployement."
   ]
  },
  {
   "cell_type": "markdown",
   "metadata": {},
   "source": [
    "## Supervised Learning:\n",
    "\n",
    "### Regression:\n",
    "    \n",
    "* It will get the relation between the input and output\n",
    "* For continuous values we use this regression    "
   ]
  },
  {
   "cell_type": "markdown",
   "metadata": {},
   "source": [
    "### Linear Regression:\n"
   ]
  },
  {
   "cell_type": "code",
   "execution_count": 1,
   "metadata": {},
   "outputs": [],
   "source": [
    "import pandas as pd\n",
    "import numpy as np\n",
    "import matplotlib.pyplot as plt\n",
    "import seaborn as sns"
   ]
  },
  {
   "cell_type": "code",
   "execution_count": 2,
   "metadata": {},
   "outputs": [
    {
     "data": {
      "text/html": [
       "<div>\n",
       "<style scoped>\n",
       "    .dataframe tbody tr th:only-of-type {\n",
       "        vertical-align: middle;\n",
       "    }\n",
       "\n",
       "    .dataframe tbody tr th {\n",
       "        vertical-align: top;\n",
       "    }\n",
       "\n",
       "    .dataframe thead th {\n",
       "        text-align: right;\n",
       "    }\n",
       "</style>\n",
       "<table border=\"1\" class=\"dataframe\">\n",
       "  <thead>\n",
       "    <tr style=\"text-align: right;\">\n",
       "      <th></th>\n",
       "      <th>Unnamed: 0</th>\n",
       "      <th>TV</th>\n",
       "      <th>Radio</th>\n",
       "      <th>Newspaper</th>\n",
       "      <th>Sales</th>\n",
       "    </tr>\n",
       "  </thead>\n",
       "  <tbody>\n",
       "    <tr>\n",
       "      <th>0</th>\n",
       "      <td>1</td>\n",
       "      <td>230.1</td>\n",
       "      <td>37.8</td>\n",
       "      <td>69.2</td>\n",
       "      <td>22.1</td>\n",
       "    </tr>\n",
       "    <tr>\n",
       "      <th>1</th>\n",
       "      <td>2</td>\n",
       "      <td>44.5</td>\n",
       "      <td>39.3</td>\n",
       "      <td>45.1</td>\n",
       "      <td>10.4</td>\n",
       "    </tr>\n",
       "    <tr>\n",
       "      <th>2</th>\n",
       "      <td>3</td>\n",
       "      <td>17.2</td>\n",
       "      <td>45.9</td>\n",
       "      <td>69.3</td>\n",
       "      <td>9.3</td>\n",
       "    </tr>\n",
       "    <tr>\n",
       "      <th>3</th>\n",
       "      <td>4</td>\n",
       "      <td>151.5</td>\n",
       "      <td>41.3</td>\n",
       "      <td>58.5</td>\n",
       "      <td>18.5</td>\n",
       "    </tr>\n",
       "    <tr>\n",
       "      <th>4</th>\n",
       "      <td>5</td>\n",
       "      <td>180.8</td>\n",
       "      <td>10.8</td>\n",
       "      <td>58.4</td>\n",
       "      <td>12.9</td>\n",
       "    </tr>\n",
       "  </tbody>\n",
       "</table>\n",
       "</div>"
      ],
      "text/plain": [
       "   Unnamed: 0     TV  Radio  Newspaper  Sales\n",
       "0           1  230.1   37.8       69.2   22.1\n",
       "1           2   44.5   39.3       45.1   10.4\n",
       "2           3   17.2   45.9       69.3    9.3\n",
       "3           4  151.5   41.3       58.5   18.5\n",
       "4           5  180.8   10.8       58.4   12.9"
      ]
     },
     "execution_count": 2,
     "metadata": {},
     "output_type": "execute_result"
    }
   ],
   "source": [
    "## reading the dataset:\n",
    "\n",
    "data = pd.read_csv(\"https://raw.githubusercontent.com/AP-Skill-Development-Corporation/KLU_machineLearning/main/Day-2(16-03-2021)/Advertising.csv\")\n",
    "data.head()"
   ]
  },
  {
   "cell_type": "code",
   "execution_count": 3,
   "metadata": {},
   "outputs": [
    {
     "name": "stdout",
     "output_type": "stream",
     "text": [
      "<class 'pandas.core.frame.DataFrame'>\n",
      "RangeIndex: 200 entries, 0 to 199\n",
      "Data columns (total 5 columns):\n",
      "Unnamed: 0    200 non-null int64\n",
      "TV            200 non-null float64\n",
      "Radio         200 non-null float64\n",
      "Newspaper     200 non-null float64\n",
      "Sales         200 non-null float64\n",
      "dtypes: float64(4), int64(1)\n",
      "memory usage: 7.9 KB\n"
     ]
    }
   ],
   "source": [
    "data.info()"
   ]
  },
  {
   "cell_type": "code",
   "execution_count": 4,
   "metadata": {},
   "outputs": [],
   "source": [
    "### removing the unwanted column:\n",
    "\n",
    "data.drop('Unnamed: 0',axis = 1,inplace = True)"
   ]
  },
  {
   "cell_type": "code",
   "execution_count": 5,
   "metadata": {},
   "outputs": [
    {
     "data": {
      "text/html": [
       "<div>\n",
       "<style scoped>\n",
       "    .dataframe tbody tr th:only-of-type {\n",
       "        vertical-align: middle;\n",
       "    }\n",
       "\n",
       "    .dataframe tbody tr th {\n",
       "        vertical-align: top;\n",
       "    }\n",
       "\n",
       "    .dataframe thead th {\n",
       "        text-align: right;\n",
       "    }\n",
       "</style>\n",
       "<table border=\"1\" class=\"dataframe\">\n",
       "  <thead>\n",
       "    <tr style=\"text-align: right;\">\n",
       "      <th></th>\n",
       "      <th>TV</th>\n",
       "      <th>Radio</th>\n",
       "      <th>Newspaper</th>\n",
       "      <th>Sales</th>\n",
       "    </tr>\n",
       "  </thead>\n",
       "  <tbody>\n",
       "    <tr>\n",
       "      <th>0</th>\n",
       "      <td>230.1</td>\n",
       "      <td>37.8</td>\n",
       "      <td>69.2</td>\n",
       "      <td>22.1</td>\n",
       "    </tr>\n",
       "    <tr>\n",
       "      <th>1</th>\n",
       "      <td>44.5</td>\n",
       "      <td>39.3</td>\n",
       "      <td>45.1</td>\n",
       "      <td>10.4</td>\n",
       "    </tr>\n",
       "    <tr>\n",
       "      <th>2</th>\n",
       "      <td>17.2</td>\n",
       "      <td>45.9</td>\n",
       "      <td>69.3</td>\n",
       "      <td>9.3</td>\n",
       "    </tr>\n",
       "    <tr>\n",
       "      <th>3</th>\n",
       "      <td>151.5</td>\n",
       "      <td>41.3</td>\n",
       "      <td>58.5</td>\n",
       "      <td>18.5</td>\n",
       "    </tr>\n",
       "    <tr>\n",
       "      <th>4</th>\n",
       "      <td>180.8</td>\n",
       "      <td>10.8</td>\n",
       "      <td>58.4</td>\n",
       "      <td>12.9</td>\n",
       "    </tr>\n",
       "  </tbody>\n",
       "</table>\n",
       "</div>"
      ],
      "text/plain": [
       "      TV  Radio  Newspaper  Sales\n",
       "0  230.1   37.8       69.2   22.1\n",
       "1   44.5   39.3       45.1   10.4\n",
       "2   17.2   45.9       69.3    9.3\n",
       "3  151.5   41.3       58.5   18.5\n",
       "4  180.8   10.8       58.4   12.9"
      ]
     },
     "execution_count": 5,
     "metadata": {},
     "output_type": "execute_result"
    }
   ],
   "source": [
    "data.head()"
   ]
  },
  {
   "cell_type": "code",
   "execution_count": 7,
   "metadata": {},
   "outputs": [
    {
     "data": {
      "text/plain": [
       "(200,)"
      ]
     },
     "execution_count": 7,
     "metadata": {},
     "output_type": "execute_result"
    }
   ],
   "source": [
    "### collecting the X and Y:\n",
    "\n",
    "X = data['TV'].values\n",
    "X.shape"
   ]
  },
  {
   "cell_type": "code",
   "execution_count": 8,
   "metadata": {},
   "outputs": [
    {
     "data": {
      "text/plain": [
       "(200,)"
      ]
     },
     "execution_count": 8,
     "metadata": {},
     "output_type": "execute_result"
    }
   ],
   "source": [
    "Y = data['Sales'].values\n",
    "Y.shape"
   ]
  },
  {
   "cell_type": "markdown",
   "metadata": {},
   "source": [
    " y = b1x + b0\n",
    " \n",
    " <img src = \"Capture.PNG\">"
   ]
  },
  {
   "cell_type": "code",
   "execution_count": 10,
   "metadata": {},
   "outputs": [
    {
     "name": "stdout",
     "output_type": "stream",
     "text": [
      "147.0425\n",
      "14.0225\n"
     ]
    }
   ],
   "source": [
    "### calculating Coffecient.\n",
    "## mean of X and Y\n",
    "\n",
    "mean_x = np.mean(X)\n",
    "print(mean_x)\n",
    "\n",
    "mean_y = np.mean(Y)\n",
    "print(mean_y)"
   ]
  },
  {
   "cell_type": "code",
   "execution_count": 12,
   "metadata": {},
   "outputs": [
    {
     "data": {
      "text/plain": [
       "200"
      ]
     },
     "execution_count": 12,
     "metadata": {},
     "output_type": "execute_result"
    }
   ],
   "source": [
    "### Total number of values:\n",
    "\n",
    "n = len(X)\n",
    "n"
   ]
  },
  {
   "cell_type": "code",
   "execution_count": 14,
   "metadata": {},
   "outputs": [
    {
     "name": "stdout",
     "output_type": "stream",
     "text": [
      "0.04753664043301969\n",
      "7.032593549127704\n"
     ]
    }
   ],
   "source": [
    "## calculate the b1 and b0 using the formula:\n",
    "\n",
    "numer = 0\n",
    "denom = 0\n",
    "for i in range(n):\n",
    "    numer += (X[i]-mean_x) * (Y[i]-mean_y)\n",
    "    denom += (X[i]-mean_x) ** 2\n",
    "\n",
    "b1  = numer / denom\n",
    "b0 = mean_y - (b1 * mean_x)\n",
    "print(b1)\n",
    "print(b0)"
   ]
  },
  {
   "cell_type": "code",
   "execution_count": 17,
   "metadata": {},
   "outputs": [
    {
     "name": "stdout",
     "output_type": "stream",
     "text": [
      "The Linear model is : y = 7.0326+0.04754X\n"
     ]
    }
   ],
   "source": [
    "print(\"The Linear model is : y = {:.5}+{:.4}X\".format(b0,b1))"
   ]
  },
  {
   "cell_type": "code",
   "execution_count": 20,
   "metadata": {},
   "outputs": [
    {
     "data": {
      "image/png": "[encoded data removed]",
      "text/plain": [
       "<Figure size 432x288 with 1 Axes>"
      ]
     },
     "metadata": {
      "needs_background": "light"
     },
     "output_type": "display_data"
    }
   ],
   "source": [
    "## plotting values and regression line:\n",
    "\n",
    "max_x = np.max(X) + 100\n",
    "min_x = np.min(X) - 100\n",
    "\n",
    "x = np.linspace(min_x,max_x,1000)\n",
    "y = b0 + b1*x\n",
    "\n",
    "## plotting line:\n",
    "\n",
    "plt.plot(x,y,color = \"red\",label = \"Regression line\")\n",
    "plt.scatter(X,Y,c = \"Blue\",label = \"Scatter plot\")\n",
    "plt.xlabel(\"Money spent on TV\")\n",
    "plt.ylabel(\"Sales\")\n",
    "plt.legend(loc = \"best\")\n",
    "plt.show()"
   ]
  },
  {
   "cell_type": "code",
   "execution_count": 21,
   "metadata": {},
   "outputs": [
    {
     "data": {
      "text/plain": [
       "7.8502237645756425"
      ]
     },
     "execution_count": 21,
     "metadata": {},
     "output_type": "execute_result"
    }
   ],
   "source": [
    "y_pred = b0 + b1 * X[2]\n",
    "y_pred"
   ]
  },
  {
   "cell_type": "code",
   "execution_count": 22,
   "metadata": {},
   "outputs": [
    {
     "data": {
      "text/html": [
       "<div>\n",
       "<style scoped>\n",
       "    .dataframe tbody tr th:only-of-type {\n",
       "        vertical-align: middle;\n",
       "    }\n",
       "\n",
       "    .dataframe tbody tr th {\n",
       "        vertical-align: top;\n",
       "    }\n",
       "\n",
       "    .dataframe thead th {\n",
       "        text-align: right;\n",
       "    }\n",
       "</style>\n",
       "<table border=\"1\" class=\"dataframe\">\n",
       "  <thead>\n",
       "    <tr style=\"text-align: right;\">\n",
       "      <th></th>\n",
       "      <th>TV</th>\n",
       "      <th>Radio</th>\n",
       "      <th>Newspaper</th>\n",
       "      <th>Sales</th>\n",
       "    </tr>\n",
       "  </thead>\n",
       "  <tbody>\n",
       "    <tr>\n",
       "      <th>0</th>\n",
       "      <td>230.1</td>\n",
       "      <td>37.8</td>\n",
       "      <td>69.2</td>\n",
       "      <td>22.1</td>\n",
       "    </tr>\n",
       "    <tr>\n",
       "      <th>1</th>\n",
       "      <td>44.5</td>\n",
       "      <td>39.3</td>\n",
       "      <td>45.1</td>\n",
       "      <td>10.4</td>\n",
       "    </tr>\n",
       "    <tr>\n",
       "      <th>2</th>\n",
       "      <td>17.2</td>\n",
       "      <td>45.9</td>\n",
       "      <td>69.3</td>\n",
       "      <td>9.3</td>\n",
       "    </tr>\n",
       "    <tr>\n",
       "      <th>3</th>\n",
       "      <td>151.5</td>\n",
       "      <td>41.3</td>\n",
       "      <td>58.5</td>\n",
       "      <td>18.5</td>\n",
       "    </tr>\n",
       "    <tr>\n",
       "      <th>4</th>\n",
       "      <td>180.8</td>\n",
       "      <td>10.8</td>\n",
       "      <td>58.4</td>\n",
       "      <td>12.9</td>\n",
       "    </tr>\n",
       "  </tbody>\n",
       "</table>\n",
       "</div>"
      ],
      "text/plain": [
       "      TV  Radio  Newspaper  Sales\n",
       "0  230.1   37.8       69.2   22.1\n",
       "1   44.5   39.3       45.1   10.4\n",
       "2   17.2   45.9       69.3    9.3\n",
       "3  151.5   41.3       58.5   18.5\n",
       "4  180.8   10.8       58.4   12.9"
      ]
     },
     "execution_count": 22,
     "metadata": {},
     "output_type": "execute_result"
    }
   ],
   "source": [
    "data.head()"
   ]
  },
  {
   "cell_type": "code",
   "execution_count": 23,
   "metadata": {},
   "outputs": [
    {
     "name": "stdout",
     "output_type": "stream",
     "text": [
      "0.5577838038692831\n"
     ]
    }
   ],
   "source": [
    "### calculating the R2 score:\n",
    "ss_tot = 0\n",
    "ss_res = 0\n",
    "for i in range(n):\n",
    "    y_pred = b0+b1*X[i]\n",
    "    ss_tot = (y[i]-mean_y) **2\n",
    "    ss_res = (Y[i] - y_pred) **2\n",
    "r2 = 1 - (ss_res/ss_tot)\n",
    "print(r2)"
   ]
  },
  {
   "cell_type": "markdown",
   "metadata": {},
   "source": [
    "### Working with Linear Regression using the Sklearn library:\n",
    "\n"
   ]
  },
  {
   "cell_type": "code",
   "execution_count": 24,
   "metadata": {},
   "outputs": [],
   "source": [
    "from sklearn.linear_model import LinearRegression"
   ]
  },
  {
   "cell_type": "code",
   "execution_count": 25,
   "metadata": {},
   "outputs": [
    {
     "data": {
      "text/plain": [
       "LinearRegression(copy_X=True, fit_intercept=True, n_jobs=None,\n",
       "         normalize=False)"
      ]
     },
     "execution_count": 25,
     "metadata": {},
     "output_type": "execute_result"
    }
   ],
   "source": [
    "### collecting the data\n",
    "\n",
    "X = data[\"TV\"].values.reshape(-1,1)\n",
    "y = data[\"Sales\"].values.reshape(-1,1)\n",
    "reg = LinearRegression()\n",
    "reg.fit(X,y)\n"
   ]
  },
  {
   "cell_type": "code",
   "execution_count": 27,
   "metadata": {},
   "outputs": [
    {
     "name": "stdout",
     "output_type": "stream",
     "text": [
      "0.047536640433019764\n",
      "7.032593549127693\n"
     ]
    }
   ],
   "source": [
    "print(reg.coef_[0][0])\n",
    "print(reg.intercept_[0])"
   ]
  },
  {
   "cell_type": "code",
   "execution_count": 28,
   "metadata": {},
   "outputs": [
    {
     "name": "stdout",
     "output_type": "stream",
     "text": [
      "The linear model is : Y = 7.0326+0.04754X\n"
     ]
    }
   ],
   "source": [
    "print(\"The linear model is : Y = {:.5}+{:.4}X\".format(reg.intercept_[0],reg.coef_[0][0]))"
   ]
  },
  {
   "cell_type": "code",
   "execution_count": 31,
   "metadata": {
    "collapsed": true
   },
   "outputs": [
    {
     "data": {
      "text/plain": [
       "array([[17.97077451],\n",
       "       [ 9.14797405],\n",
       "       [ 7.85022376],\n",
       "       [14.23439457],\n",
       "       [15.62721814],\n",
       "       [ 7.44616232],\n",
       "       [ 9.76595037],\n",
       "       [12.74649773],\n",
       "       [ 7.44140866],\n",
       "       [16.53041431],\n",
       "       [10.17476548],\n",
       "       [17.23871025],\n",
       "       [ 8.16396559],\n",
       "       [11.66741599],\n",
       "       [16.73482186],\n",
       "       [16.32125309],\n",
       "       [10.25557777],\n",
       "       [20.40940417],\n",
       "       [10.32212907],\n",
       "       [14.03474068],\n",
       "       [17.41459582],\n",
       "       [18.31779199],\n",
       "       [ 7.6600772 ],\n",
       "       [17.88520856],\n",
       "       [ 9.99412625],\n",
       "       [19.52997632],\n",
       "       [13.82557947],\n",
       "       [18.44614092],\n",
       "       [18.85970969],\n",
       "       [10.38868036],\n",
       "       [20.95607553],\n",
       "       [12.39948025],\n",
       "       [11.653155  ],\n",
       "       [19.65832525],\n",
       "       [11.58185004],\n",
       "       [20.85149492],\n",
       "       [19.72012288],\n",
       "       [10.58358059],\n",
       "       [ 9.08142275],\n",
       "       [17.87094757],\n",
       "       [16.65876324],\n",
       "       [15.44657891],\n",
       "       [20.98935118],\n",
       "       [16.86792445],\n",
       "       [ 8.22576322],\n",
       "       [15.35625929],\n",
       "       [11.2966302 ],\n",
       "       [18.43663359],\n",
       "       [17.83291826],\n",
       "       [10.21279479],\n",
       "       [16.53041431],\n",
       "       [11.80527225],\n",
       "       [17.31952254],\n",
       "       [15.71278409],\n",
       "       [19.52046899],\n",
       "       [16.48763133],\n",
       "       [ 7.37961102],\n",
       "       [13.50708398],\n",
       "       [17.05331735],\n",
       "       [17.04856369],\n",
       "       [ 9.57580381],\n",
       "       [19.45391769],\n",
       "       [18.4081116 ],\n",
       "       [11.91460652],\n",
       "       [13.26464711],\n",
       "       [10.31262174],\n",
       "       [ 8.52999772],\n",
       "       [13.65444756],\n",
       "       [18.31779199],\n",
       "       [17.3385372 ],\n",
       "       [16.49713866],\n",
       "       [12.25211667],\n",
       "       [ 8.30657551],\n",
       "       [13.18383482],\n",
       "       [17.17691262],\n",
       "       [ 7.83596277],\n",
       "       [ 8.33985116],\n",
       "       [12.76075872],\n",
       "       [ 7.28929141],\n",
       "       [12.54684384],\n",
       "       [10.66439288],\n",
       "       [18.43187992],\n",
       "       [10.61210257],\n",
       "       [10.28409975],\n",
       "       [17.18166628],\n",
       "       [16.21667248],\n",
       "       [10.65963921],\n",
       "       [12.29489965],\n",
       "       [11.2300789 ],\n",
       "       [12.25211667],\n",
       "       [13.41676436],\n",
       "       [ 8.39214147],\n",
       "       [17.38132017],\n",
       "       [18.95953663],\n",
       "       [12.13802873],\n",
       "       [14.79532693],\n",
       "       [16.4258337 ],\n",
       "       [15.82211837],\n",
       "       [20.80395828],\n",
       "       [13.45954734],\n",
       "       [17.60474238],\n",
       "       [21.12245377],\n",
       "       [20.3523602 ],\n",
       "       [15.96472829],\n",
       "       [18.3558213 ],\n",
       "       [13.58789626],\n",
       "       [ 8.22100956],\n",
       "       [11.32990584],\n",
       "       [ 7.65532354],\n",
       "       [19.17345152],\n",
       "       [17.76636696],\n",
       "       [18.52219954],\n",
       "       [15.38478127],\n",
       "       [16.99627338],\n",
       "       [10.74995883],\n",
       "       [10.60259525],\n",
       "       [13.6496939 ],\n",
       "       [10.66439288],\n",
       "       [13.00794925],\n",
       "       [ 7.95480437],\n",
       "       [13.74952084],\n",
       "       [ 7.92628239],\n",
       "       [17.68080101],\n",
       "       [12.88435399],\n",
       "       [17.94225253],\n",
       "       [11.17778859],\n",
       "       [ 7.40337934],\n",
       "       [10.84503211],\n",
       "       [17.50491544],\n",
       "       [ 9.86577732],\n",
       "       [ 7.0658692 ],\n",
       "       [19.63931059],\n",
       "       [ 7.43190133],\n",
       "       [17.48114712],\n",
       "       [ 8.78669558],\n",
       "       [ 9.32861328],\n",
       "       [ 8.24953154],\n",
       "       [20.04337204],\n",
       "       [ 9.07666909],\n",
       "       [15.82211837],\n",
       "       [10.52178296],\n",
       "       [16.2404408 ],\n",
       "       [17.51442276],\n",
       "       [12.00492614],\n",
       "       [11.60561836],\n",
       "       [13.7019842 ],\n",
       "       [18.44614092],\n",
       "       [18.5935045 ],\n",
       "       [ 8.83898589],\n",
       "       [ 9.15748138],\n",
       "       [20.37612852],\n",
       "       [12.78452704],\n",
       "       [16.4258337 ],\n",
       "       [15.17562006],\n",
       "       [15.95997462],\n",
       "       [ 7.22749377],\n",
       "       [11.49628409],\n",
       "       [14.15358229],\n",
       "       [ 7.58877224],\n",
       "       [13.29316909],\n",
       "       [15.23266402],\n",
       "       [11.10648363],\n",
       "       [15.98849661],\n",
       "       [14.80483426],\n",
       "       [12.60388781],\n",
       "       [18.17993573],\n",
       "       [ 7.88349941],\n",
       "       [16.86317079],\n",
       "       [17.2719859 ],\n",
       "       [20.54726042],\n",
       "       [ 9.40942557],\n",
       "       [14.8523709 ],\n",
       "       [ 7.9643117 ],\n",
       "       [15.0377638 ],\n",
       "       [17.60474238],\n",
       "       [20.19548929],\n",
       "       [18.84069503],\n",
       "       [15.12332975],\n",
       "       [20.18598196],\n",
       "       [14.9046612 ],\n",
       "       [14.47683144],\n",
       "       [17.41934948],\n",
       "       [ 9.70415274],\n",
       "       [20.70413134],\n",
       "       [19.09739289],\n",
       "       [16.77760484],\n",
       "       [13.66395489],\n",
       "       [16.11684554],\n",
       "       [20.62807271],\n",
       "       [ 7.92152873],\n",
       "       [ 8.91029085],\n",
       "       [10.6216099 ],\n",
       "       [ 7.85022376],\n",
       "       [14.96170517],\n",
       "       [14.14882862],\n",
       "       [ 8.84849321],\n",
       "       [11.51054508],\n",
       "       [15.44657891],\n",
       "       [20.51398478],\n",
       "       [18.06584779]])"
      ]
     },
     "execution_count": 31,
     "metadata": {},
     "output_type": "execute_result"
    }
   ],
   "source": [
    "predictions = reg.predict(X)\n",
    "predictions"
   ]
  },
  {
   "cell_type": "code",
   "execution_count": 32,
   "metadata": {},
   "outputs": [
    {
     "data": {
      "image/png": "[encoded data removed]",
      "text/plain": [
       "<Figure size 576x288 with 1 Axes>"
      ]
     },
     "metadata": {
      "needs_background": "light"
     },
     "output_type": "display_data"
    }
   ],
   "source": [
    "plt.figure(figsize = (8,4))\n",
    "plt.scatter(data['TV'],data[\"Sales\"],c = \"black\",label = \"Scatterplot\")\n",
    "plt.plot(data[\"TV\"],predictions,c = \"red\",label = \"regressionline\")\n",
    "plt.xlabel(\"Money spent on TV\")\n",
    "plt.ylabel(\"Sales\")\n",
    "plt.legend(loc = \"best\")\n",
    "plt.show()\n"
   ]
  },
  {
   "cell_type": "code",
   "execution_count": 33,
   "metadata": {},
   "outputs": [
    {
     "name": "stdout",
     "output_type": "stream",
     "text": [
      "R2 score :  0.611875050850071\n"
     ]
    }
   ],
   "source": [
    "### R2 score:\n",
    "\n",
    "r2 = reg.score(X,y)\n",
    "print(\"R2 score : \",r2)"
   ]
  },
  {
   "cell_type": "code",
   "execution_count": 40,
   "metadata": {},
   "outputs": [
    {
     "data": {
      "text/plain": [
       "array([[7.85022376]])"
      ]
     },
     "execution_count": 40,
     "metadata": {},
     "output_type": "execute_result"
    }
   ],
   "source": [
    "reg.predict([[17.2]])"
   ]
  },
  {
   "cell_type": "code",
   "execution_count": 37,
   "metadata": {},
   "outputs": [
    {
     "data": {
      "text/html": [
       "<div>\n",
       "<style scoped>\n",
       "    .dataframe tbody tr th:only-of-type {\n",
       "        vertical-align: middle;\n",
       "    }\n",
       "\n",
       "    .dataframe tbody tr th {\n",
       "        vertical-align: top;\n",
       "    }\n",
       "\n",
       "    .dataframe thead th {\n",
       "        text-align: right;\n",
       "    }\n",
       "</style>\n",
       "<table border=\"1\" class=\"dataframe\">\n",
       "  <thead>\n",
       "    <tr style=\"text-align: right;\">\n",
       "      <th></th>\n",
       "      <th>TV</th>\n",
       "      <th>Radio</th>\n",
       "      <th>Newspaper</th>\n",
       "      <th>Sales</th>\n",
       "    </tr>\n",
       "  </thead>\n",
       "  <tbody>\n",
       "    <tr>\n",
       "      <th>0</th>\n",
       "      <td>230.1</td>\n",
       "      <td>37.8</td>\n",
       "      <td>69.2</td>\n",
       "      <td>22.1</td>\n",
       "    </tr>\n",
       "    <tr>\n",
       "      <th>1</th>\n",
       "      <td>44.5</td>\n",
       "      <td>39.3</td>\n",
       "      <td>45.1</td>\n",
       "      <td>10.4</td>\n",
       "    </tr>\n",
       "    <tr>\n",
       "      <th>2</th>\n",
       "      <td>17.2</td>\n",
       "      <td>45.9</td>\n",
       "      <td>69.3</td>\n",
       "      <td>9.3</td>\n",
       "    </tr>\n",
       "    <tr>\n",
       "      <th>3</th>\n",
       "      <td>151.5</td>\n",
       "      <td>41.3</td>\n",
       "      <td>58.5</td>\n",
       "      <td>18.5</td>\n",
       "    </tr>\n",
       "    <tr>\n",
       "      <th>4</th>\n",
       "      <td>180.8</td>\n",
       "      <td>10.8</td>\n",
       "      <td>58.4</td>\n",
       "      <td>12.9</td>\n",
       "    </tr>\n",
       "  </tbody>\n",
       "</table>\n",
       "</div>"
      ],
      "text/plain": [
       "      TV  Radio  Newspaper  Sales\n",
       "0  230.1   37.8       69.2   22.1\n",
       "1   44.5   39.3       45.1   10.4\n",
       "2   17.2   45.9       69.3    9.3\n",
       "3  151.5   41.3       58.5   18.5\n",
       "4  180.8   10.8       58.4   12.9"
      ]
     },
     "execution_count": 37,
     "metadata": {},
     "output_type": "execute_result"
    }
   ],
   "source": [
    "data.head()"
   ]
  },
  {
   "cell_type": "markdown",
   "metadata": {},
   "source": [
    "### Task:\n",
    "* Generate random X and Y in a number of 1000\n",
    "* Manually calculate the b0 and b1 values.\n",
    "* Plot the graph for input and output values\n",
    "* find the r2 score\n",
    "* use the linear regression model from sklearn library and calculate linear regression."
   ]
  },
  {
   "cell_type": "code",
   "execution_count": null,
   "metadata": {},
   "outputs": [],
   "source": []
  }
 ],
 "metadata": {
  "kernelspec": {
   "display_name": "Python 3",
   "language": "python",
   "name": "python3"
  },
  "language_info": {
   "codemirror_mode": {
    "name": "ipython",
    "version": 3
   },
   "file_extension": ".py",
   "mimetype": "text/x-python",
   "name": "python",
   "nbconvert_exporter": "python",
   "pygments_lexer": "ipython3",
   "version": "3.7.3"
  }
 },
 "nbformat": 4,
 "nbformat_minor": 2
}
